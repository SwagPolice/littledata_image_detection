{
 "cells": [
  {
   "cell_type": "markdown",
   "metadata": {},
   "source": [
    "# Convert Keras model to Apple CoreML"
   ]
  },
  {
   "cell_type": "code",
   "execution_count": null,
   "metadata": {
    "collapsed": true
   },
   "outputs": [],
   "source": [
    "import coremltools\n",
    "\n",
    "coreml_model = coremltools.converters.keras.convert('fool-enhanced_model.h5',\n",
    "                                                    \n",
    "                                                    input_names = 'image',\n",
    "                                                    \n",
    "                                                    image_input_names = 'image',\n",
    "                                                    \n",
    "                                                    class_labels = ['Livebox 2', 'Livebox 4', 'Livebox Play'])\n",
    "coreml_model.save(\"livebox_recV3.mlmodel\")\n",
    "\n",
    "coreml_model"
   ]
  }
 ],
 "metadata": {
  "kernelspec": {
   "display_name": "Python 2",
   "language": "python",
   "name": "python2"
  },
  "language_info": {
   "codemirror_mode": {
    "name": "ipython",
    "version": 2
   },
   "file_extension": ".py",
   "mimetype": "text/x-python",
   "name": "python",
   "nbconvert_exporter": "python",
   "pygments_lexer": "ipython2",
   "version": "2.7.13"
  }
 },
 "nbformat": 4,
 "nbformat_minor": 2
}
